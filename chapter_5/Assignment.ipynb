{
 "cells": [
  {
   "cell_type": "code",
   "execution_count": 1,
   "metadata": {},
   "outputs": [],
   "source": [
    "# https://github.com/cuttlefishh/python-for-data-analysis/blob/master/assignments/assignment6.md"
   ]
  },
  {
   "cell_type": "code",
   "execution_count": null,
   "metadata": {},
   "outputs": [],
   "source": [
    "# download data\n",
    "# the metadata file for a 2,000-sample subset of the >27,000 samples in the Release 1 16S rRNA dataset."
   ]
  },
  {
   "cell_type": "code",
   "execution_count": 3,
   "metadata": {},
   "outputs": [],
   "source": [
    "# curl -O \"ftp://ftp.microbio.me/emp/release1/mapping_files/emp_qiime_mapping_subset_2k.tsv\""
   ]
  },
  {
   "cell_type": "code",
   "execution_count": 27,
   "metadata": {},
   "outputs": [],
   "source": [
    "# A. Reading and summarizing\n",
    "# Import the tab-separated values file emp_qiime_mapping_subset_2k.tsv as a DataFrame called df with default data types, with the first row as column labels (columns) and the first column as row labels (indexes).\n",
    "import numpy as np\n",
    "import pandas as pd\n",
    "from pandas import Series, DataFrame"
   ]
  },
  {
   "cell_type": "code",
   "execution_count": 31,
   "metadata": {},
   "outputs": [
    {
     "data": {
      "text/html": [
       "<div>\n",
       "<style scoped>\n",
       "    .dataframe tbody tr th:only-of-type {\n",
       "        vertical-align: middle;\n",
       "    }\n",
       "\n",
       "    .dataframe tbody tr th {\n",
       "        vertical-align: top;\n",
       "    }\n",
       "\n",
       "    .dataframe thead th {\n",
       "        text-align: right;\n",
       "    }\n",
       "</style>\n",
       "<table border=\"1\" class=\"dataframe\">\n",
       "  <thead>\n",
       "    <tr style=\"text-align: right;\">\n",
       "      <th></th>\n",
       "      <th>BarcodeSequence</th>\n",
       "      <th>LinkerPrimerSequence</th>\n",
       "      <th>Description</th>\n",
       "      <th>host_subject_id</th>\n",
       "      <th>study_id</th>\n",
       "      <th>title</th>\n",
       "      <th>principal_investigator</th>\n",
       "      <th>doi</th>\n",
       "      <th>ebi_accession</th>\n",
       "      <th>target_gene</th>\n",
       "      <th>...</th>\n",
       "      <th>adiv_shannon</th>\n",
       "      <th>adiv_faith_pd</th>\n",
       "      <th>temperature_deg_c</th>\n",
       "      <th>ph</th>\n",
       "      <th>salinity_psu</th>\n",
       "      <th>oxygen_mg_per_l</th>\n",
       "      <th>phosphate_umol_per_l</th>\n",
       "      <th>ammonium_umol_per_l</th>\n",
       "      <th>nitrate_umol_per_l</th>\n",
       "      <th>sulfate_umol_per_l</th>\n",
       "    </tr>\n",
       "    <tr>\n",
       "      <th>#SampleID</th>\n",
       "      <th></th>\n",
       "      <th></th>\n",
       "      <th></th>\n",
       "      <th></th>\n",
       "      <th></th>\n",
       "      <th></th>\n",
       "      <th></th>\n",
       "      <th></th>\n",
       "      <th></th>\n",
       "      <th></th>\n",
       "      <th></th>\n",
       "      <th></th>\n",
       "      <th></th>\n",
       "      <th></th>\n",
       "      <th></th>\n",
       "      <th></th>\n",
       "      <th></th>\n",
       "      <th></th>\n",
       "      <th></th>\n",
       "      <th></th>\n",
       "      <th></th>\n",
       "    </tr>\n",
       "  </thead>\n",
       "  <tbody>\n",
       "    <tr>\n",
       "      <th>550.L1S116.s.1.sequence</th>\n",
       "      <td>ATGCCTGAGCAG</td>\n",
       "      <td>GTGCCAGCMGCCGCGGTAA</td>\n",
       "      <td>sample_20 stool</td>\n",
       "      <td>F4</td>\n",
       "      <td>550</td>\n",
       "      <td>Moving pictures of the human microbiome</td>\n",
       "      <td>Rob Knight</td>\n",
       "      <td>10.1186/gb-2011-12-5-r50</td>\n",
       "      <td>ERP021896</td>\n",
       "      <td>16S rRNA</td>\n",
       "      <td>...</td>\n",
       "      <td>3.867414</td>\n",
       "      <td>12.457989</td>\n",
       "      <td>NaN</td>\n",
       "      <td>NaN</td>\n",
       "      <td>NaN</td>\n",
       "      <td>NaN</td>\n",
       "      <td>NaN</td>\n",
       "      <td>NaN</td>\n",
       "      <td>NaN</td>\n",
       "      <td>NaN</td>\n",
       "    </tr>\n",
       "    <tr>\n",
       "      <th>550.L1S119.s.1.sequence</th>\n",
       "      <td>CAGCACTAAGCG</td>\n",
       "      <td>GTGCCAGCMGCCGCGGTAA</td>\n",
       "      <td>sample_23 stool</td>\n",
       "      <td>F4</td>\n",
       "      <td>550</td>\n",
       "      <td>Moving pictures of the human microbiome</td>\n",
       "      <td>Rob Knight</td>\n",
       "      <td>10.1186/gb-2011-12-5-r50</td>\n",
       "      <td>ERP021896</td>\n",
       "      <td>16S rRNA</td>\n",
       "      <td>...</td>\n",
       "      <td>3.265164</td>\n",
       "      <td>10.719448</td>\n",
       "      <td>NaN</td>\n",
       "      <td>NaN</td>\n",
       "      <td>NaN</td>\n",
       "      <td>NaN</td>\n",
       "      <td>NaN</td>\n",
       "      <td>NaN</td>\n",
       "      <td>NaN</td>\n",
       "      <td>NaN</td>\n",
       "    </tr>\n",
       "    <tr>\n",
       "      <th>550.L1S164.s.1.sequence</th>\n",
       "      <td>ATGTACGGCGAC</td>\n",
       "      <td>GTGCCAGCMGCCGCGGTAA</td>\n",
       "      <td>sample_73 stool</td>\n",
       "      <td>M3</td>\n",
       "      <td>550</td>\n",
       "      <td>Moving pictures of the human microbiome</td>\n",
       "      <td>Rob Knight</td>\n",
       "      <td>10.1186/gb-2011-12-5-r50</td>\n",
       "      <td>ERP021896</td>\n",
       "      <td>16S rRNA</td>\n",
       "      <td>...</td>\n",
       "      <td>3.661124</td>\n",
       "      <td>14.214158</td>\n",
       "      <td>NaN</td>\n",
       "      <td>NaN</td>\n",
       "      <td>NaN</td>\n",
       "      <td>NaN</td>\n",
       "      <td>NaN</td>\n",
       "      <td>NaN</td>\n",
       "      <td>NaN</td>\n",
       "      <td>NaN</td>\n",
       "    </tr>\n",
       "    <tr>\n",
       "      <th>550.L1S194.s.1.sequence</th>\n",
       "      <td>CGAAGACTGCTG</td>\n",
       "      <td>GTGCCAGCMGCCGCGGTAA</td>\n",
       "      <td>sample_105 stool</td>\n",
       "      <td>M3</td>\n",
       "      <td>550</td>\n",
       "      <td>Moving pictures of the human microbiome</td>\n",
       "      <td>Rob Knight</td>\n",
       "      <td>10.1186/gb-2011-12-5-r50</td>\n",
       "      <td>ERP021896</td>\n",
       "      <td>16S rRNA</td>\n",
       "      <td>...</td>\n",
       "      <td>4.439943</td>\n",
       "      <td>12.012602</td>\n",
       "      <td>NaN</td>\n",
       "      <td>NaN</td>\n",
       "      <td>NaN</td>\n",
       "      <td>NaN</td>\n",
       "      <td>NaN</td>\n",
       "      <td>NaN</td>\n",
       "      <td>NaN</td>\n",
       "      <td>NaN</td>\n",
       "    </tr>\n",
       "    <tr>\n",
       "      <th>550.L1S20.s.1.sequence</th>\n",
       "      <td>ACGGTGAGTGTC</td>\n",
       "      <td>GTGCCAGCMGCCGCGGTAA</td>\n",
       "      <td>sample_112 stool</td>\n",
       "      <td>F4</td>\n",
       "      <td>550</td>\n",
       "      <td>Moving pictures of the human microbiome</td>\n",
       "      <td>Rob Knight</td>\n",
       "      <td>10.1186/gb-2011-12-5-r50</td>\n",
       "      <td>ERP021896</td>\n",
       "      <td>16S rRNA</td>\n",
       "      <td>...</td>\n",
       "      <td>3.327601</td>\n",
       "      <td>11.758069</td>\n",
       "      <td>NaN</td>\n",
       "      <td>NaN</td>\n",
       "      <td>NaN</td>\n",
       "      <td>NaN</td>\n",
       "      <td>NaN</td>\n",
       "      <td>NaN</td>\n",
       "      <td>NaN</td>\n",
       "      <td>NaN</td>\n",
       "    </tr>\n",
       "  </tbody>\n",
       "</table>\n",
       "<p>5 rows × 75 columns</p>\n",
       "</div>"
      ],
      "text/plain": [
       "                        BarcodeSequence LinkerPrimerSequence  \\\n",
       "#SampleID                                                      \n",
       "550.L1S116.s.1.sequence    ATGCCTGAGCAG  GTGCCAGCMGCCGCGGTAA   \n",
       "550.L1S119.s.1.sequence    CAGCACTAAGCG  GTGCCAGCMGCCGCGGTAA   \n",
       "550.L1S164.s.1.sequence    ATGTACGGCGAC  GTGCCAGCMGCCGCGGTAA   \n",
       "550.L1S194.s.1.sequence    CGAAGACTGCTG  GTGCCAGCMGCCGCGGTAA   \n",
       "550.L1S20.s.1.sequence     ACGGTGAGTGTC  GTGCCAGCMGCCGCGGTAA   \n",
       "\n",
       "                              Description host_subject_id  study_id  \\\n",
       "#SampleID                                                             \n",
       "550.L1S116.s.1.sequence   sample_20 stool              F4       550   \n",
       "550.L1S119.s.1.sequence   sample_23 stool              F4       550   \n",
       "550.L1S164.s.1.sequence   sample_73 stool              M3       550   \n",
       "550.L1S194.s.1.sequence  sample_105 stool              M3       550   \n",
       "550.L1S20.s.1.sequence   sample_112 stool              F4       550   \n",
       "\n",
       "                                                           title  \\\n",
       "#SampleID                                                          \n",
       "550.L1S116.s.1.sequence  Moving pictures of the human microbiome   \n",
       "550.L1S119.s.1.sequence  Moving pictures of the human microbiome   \n",
       "550.L1S164.s.1.sequence  Moving pictures of the human microbiome   \n",
       "550.L1S194.s.1.sequence  Moving pictures of the human microbiome   \n",
       "550.L1S20.s.1.sequence   Moving pictures of the human microbiome   \n",
       "\n",
       "                        principal_investigator                       doi  \\\n",
       "#SampleID                                                                  \n",
       "550.L1S116.s.1.sequence             Rob Knight  10.1186/gb-2011-12-5-r50   \n",
       "550.L1S119.s.1.sequence             Rob Knight  10.1186/gb-2011-12-5-r50   \n",
       "550.L1S164.s.1.sequence             Rob Knight  10.1186/gb-2011-12-5-r50   \n",
       "550.L1S194.s.1.sequence             Rob Knight  10.1186/gb-2011-12-5-r50   \n",
       "550.L1S20.s.1.sequence              Rob Knight  10.1186/gb-2011-12-5-r50   \n",
       "\n",
       "                        ebi_accession target_gene         ...          \\\n",
       "#SampleID                                                 ...           \n",
       "550.L1S116.s.1.sequence     ERP021896    16S rRNA         ...           \n",
       "550.L1S119.s.1.sequence     ERP021896    16S rRNA         ...           \n",
       "550.L1S164.s.1.sequence     ERP021896    16S rRNA         ...           \n",
       "550.L1S194.s.1.sequence     ERP021896    16S rRNA         ...           \n",
       "550.L1S20.s.1.sequence      ERP021896    16S rRNA         ...           \n",
       "\n",
       "                        adiv_shannon adiv_faith_pd temperature_deg_c  ph  \\\n",
       "#SampleID                                                                  \n",
       "550.L1S116.s.1.sequence     3.867414     12.457989               NaN NaN   \n",
       "550.L1S119.s.1.sequence     3.265164     10.719448               NaN NaN   \n",
       "550.L1S164.s.1.sequence     3.661124     14.214158               NaN NaN   \n",
       "550.L1S194.s.1.sequence     4.439943     12.012602               NaN NaN   \n",
       "550.L1S20.s.1.sequence      3.327601     11.758069               NaN NaN   \n",
       "\n",
       "                        salinity_psu oxygen_mg_per_l  phosphate_umol_per_l  \\\n",
       "#SampleID                                                                    \n",
       "550.L1S116.s.1.sequence          NaN             NaN                   NaN   \n",
       "550.L1S119.s.1.sequence          NaN             NaN                   NaN   \n",
       "550.L1S164.s.1.sequence          NaN             NaN                   NaN   \n",
       "550.L1S194.s.1.sequence          NaN             NaN                   NaN   \n",
       "550.L1S20.s.1.sequence           NaN             NaN                   NaN   \n",
       "\n",
       "                         ammonium_umol_per_l  nitrate_umol_per_l  \\\n",
       "#SampleID                                                          \n",
       "550.L1S116.s.1.sequence                  NaN                 NaN   \n",
       "550.L1S119.s.1.sequence                  NaN                 NaN   \n",
       "550.L1S164.s.1.sequence                  NaN                 NaN   \n",
       "550.L1S194.s.1.sequence                  NaN                 NaN   \n",
       "550.L1S20.s.1.sequence                   NaN                 NaN   \n",
       "\n",
       "                         sulfate_umol_per_l  \n",
       "#SampleID                                    \n",
       "550.L1S116.s.1.sequence                 NaN  \n",
       "550.L1S119.s.1.sequence                 NaN  \n",
       "550.L1S164.s.1.sequence                 NaN  \n",
       "550.L1S194.s.1.sequence                 NaN  \n",
       "550.L1S20.s.1.sequence                  NaN  \n",
       "\n",
       "[5 rows x 75 columns]"
      ]
     },
     "execution_count": 31,
     "metadata": {},
     "output_type": "execute_result"
    }
   ],
   "source": [
    "data = pd.read_table(\"/Users/ruijuanli/Desktop/python-data-analysis_RuijuanL/chapter_5/emp_qiime_mapping_subset_2k.tsv\", index_col= 0)\n",
    "df = pd.DataFrame(data)\n",
    "df.head()"
   ]
  },
  {
   "cell_type": "code",
   "execution_count": 19,
   "metadata": {},
   "outputs": [
    {
     "data": {
      "text/plain": [
       "Index(['BarcodeSequence', 'LinkerPrimerSequence', 'Description',\n",
       "       'host_subject_id', 'study_id', 'title', 'principal_investigator', 'doi',\n",
       "       'ebi_accession', 'target_gene', 'target_subfragment', 'pcr_primers',\n",
       "       'illumina_technology', 'extraction_center', 'run_center', 'run_date',\n",
       "       'read_length_bp', 'sequences_split_libraries',\n",
       "       'observations_closed_ref_greengenes', 'observations_closed_ref_silva',\n",
       "       'observations_open_ref_greengenes', 'observations_deblur_90bp',\n",
       "       'observations_deblur_100bp', 'observations_deblur_150bp',\n",
       "       'emp_release1', 'qc_filtered', 'subset_10k', 'subset_5k', 'subset_2k',\n",
       "       'sample_taxid', 'sample_scientific_name', 'host_taxid',\n",
       "       'host_common_name_provided', 'host_common_name', 'host_scientific_name',\n",
       "       'host_superkingdom', 'host_kingdom', 'host_phylum', 'host_class',\n",
       "       'host_order', 'host_family', 'host_genus', 'host_species',\n",
       "       'collection_timestamp', 'country', 'latitude_deg', 'longitude_deg',\n",
       "       'depth_m', 'altitude_m', 'elevation_m', 'env_biome', 'env_feature',\n",
       "       'env_material', 'envo_biome_0', 'envo_biome_1', 'envo_biome_2',\n",
       "       'envo_biome_3', 'envo_biome_4', 'envo_biome_5', 'empo_0', 'empo_1',\n",
       "       'empo_2', 'empo_3', 'adiv_observed_otus', 'adiv_chao1', 'adiv_shannon',\n",
       "       'adiv_faith_pd', 'temperature_deg_c', 'ph', 'salinity_psu',\n",
       "       'oxygen_mg_per_l', 'phosphate_umol_per_l', 'ammonium_umol_per_l',\n",
       "       'nitrate_umol_per_l', 'sulfate_umol_per_l'],\n",
       "      dtype='object')"
      ]
     },
     "execution_count": 19,
     "metadata": {},
     "output_type": "execute_result"
    }
   ],
   "source": [
    "df.columns"
   ]
  },
  {
   "cell_type": "code",
   "execution_count": 20,
   "metadata": {},
   "outputs": [
    {
     "data": {
      "text/plain": [
       "Index(['550.L1S116.s.1.sequence', '550.L1S119.s.1.sequence',\n",
       "       '550.L1S164.s.1.sequence', '550.L1S194.s.1.sequence',\n",
       "       '550.L1S20.s.1.sequence', '550.L1S26.s.1.sequence',\n",
       "       '550.L1S264.s.1.sequence', '550.L1S273.s.1.sequence',\n",
       "       '550.L2S103.s.2.sequence', '550.L2S144.s.2.sequence',\n",
       "       ...\n",
       "       '2382.DPOO1.C1.HA.3.238.root.9.11.lane1.NoIndex.L001.sequences',\n",
       "       '2382.DPOO1.C1.HA.2.635.gp.9.12.lane8.NoIndex.L008.sequences',\n",
       "       '2382.DPOO1.C1.HA.2.634.leav.9.12.lane8.NoIndex.L008.sequences',\n",
       "       '2382.DPOO1.C1.HA.2.633.root.9.12.lane7.NoIndex.L007.sequences',\n",
       "       '2382.DPOO1.C1.HA.2.433.root.4.12.lane7.NoIndex.L007.sequences',\n",
       "       '2382.DPOO1.C1.HA.1.630.gp.9.12.lane8.NoIndex.L008.sequences',\n",
       "       '2382.DPOO1.C1.HA.1.629.leav.9.12.lane8.NoIndex.L008.sequences',\n",
       "       '2382.DPOO1.C1.HA.1.628.root.9.12.lane7.NoIndex.L007.sequences',\n",
       "       '2382.DPOO1.C1.HA.1.428.root.4.12.lane7.NoIndex.L007.sequences',\n",
       "       '2382.DPOO1.C1.HA.1.228.root.9.11.lane1.NoIndex.L001.sequences'],\n",
       "      dtype='object', name='#SampleID', length=2000)"
      ]
     },
     "execution_count": 20,
     "metadata": {},
     "output_type": "execute_result"
    }
   ],
   "source": [
    "df.index"
   ]
  },
  {
   "cell_type": "code",
   "execution_count": 21,
   "metadata": {},
   "outputs": [
    {
     "data": {
      "text/plain": [
       "(2000, 75)"
      ]
     },
     "execution_count": 21,
     "metadata": {},
     "output_type": "execute_result"
    }
   ],
   "source": [
    "# The indexes should be the sample IDs. How many samples are in this DataFrame? How many metadata columns?\n",
    "df.shape # 2000 samples and 75 metadata columns "
   ]
  },
  {
   "cell_type": "code",
   "execution_count": 33,
   "metadata": {},
   "outputs": [
    {
     "data": {
      "text/plain": [
       "ph    12.3\n",
       "dtype: float64"
      ]
     },
     "execution_count": 33,
     "metadata": {},
     "output_type": "execute_result"
    }
   ],
   "source": [
    "# What are the minimum and maximum pH values in the dataset?\n",
    "df[[\"ph\"]].max()"
   ]
  },
  {
   "cell_type": "code",
   "execution_count": 35,
   "metadata": {},
   "outputs": [
    {
     "data": {
      "text/plain": [
       "ph    3.45\n",
       "dtype: float64"
      ]
     },
     "execution_count": 35,
     "metadata": {},
     "output_type": "execute_result"
    }
   ],
   "source": [
    "df[[\"ph\"]].min()"
   ]
  },
  {
   "cell_type": "code",
   "execution_count": null,
   "metadata": {},
   "outputs": [],
   "source": [
    "# What are the average and standard deviation temperature values in the dataset?"
   ]
  },
  {
   "cell_type": "code",
   "execution_count": 36,
   "metadata": {},
   "outputs": [
    {
     "data": {
      "text/plain": [
       "temperature_deg_c    18.491088\n",
       "dtype: float64"
      ]
     },
     "execution_count": 36,
     "metadata": {},
     "output_type": "execute_result"
    }
   ],
   "source": [
    "df[[\"temperature_deg_c\"]].mean()"
   ]
  },
  {
   "cell_type": "code",
   "execution_count": 37,
   "metadata": {},
   "outputs": [
    {
     "data": {
      "text/plain": [
       "temperature_deg_c    16.672381\n",
       "dtype: float64"
      ]
     },
     "execution_count": 37,
     "metadata": {},
     "output_type": "execute_result"
    }
   ],
   "source": [
    "df[[\"temperature_deg_c\"]].std()"
   ]
  },
  {
   "cell_type": "code",
   "execution_count": 61,
   "metadata": {},
   "outputs": [
    {
     "data": {
      "text/plain": [
       "411"
      ]
     },
     "execution_count": 61,
     "metadata": {},
     "output_type": "execute_result"
    }
   ],
   "source": [
    "# B. Indexing, slicing, and writing\n",
    "# Make a new Series called temp with the temperature column as its own Series object. Remove NaN values (np.nan) from this Series. How many values are left?\n",
    "temp = df[\"temperature_deg_c\"]\n",
    "temp = temp[pd.notnull(temp)]\n",
    "len(temp)"
   ]
  },
  {
   "cell_type": "code",
   "execution_count": 62,
   "metadata": {},
   "outputs": [
    {
     "data": {
      "text/plain": [
       "(411,)"
      ]
     },
     "execution_count": 62,
     "metadata": {},
     "output_type": "execute_result"
    }
   ],
   "source": [
    "temp.shape"
   ]
  },
  {
   "cell_type": "code",
   "execution_count": 78,
   "metadata": {},
   "outputs": [
    {
     "data": {
      "text/html": [
       "<div>\n",
       "<style scoped>\n",
       "    .dataframe tbody tr th:only-of-type {\n",
       "        vertical-align: middle;\n",
       "    }\n",
       "\n",
       "    .dataframe tbody tr th {\n",
       "        vertical-align: top;\n",
       "    }\n",
       "\n",
       "    .dataframe thead th {\n",
       "        text-align: right;\n",
       "    }\n",
       "</style>\n",
       "<table border=\"1\" class=\"dataframe\">\n",
       "  <thead>\n",
       "    <tr style=\"text-align: right;\">\n",
       "      <th></th>\n",
       "      <th>sequences_split_libraries</th>\n",
       "      <th>observations_closed_ref_greengenes</th>\n",
       "      <th>observations_closed_ref_silva</th>\n",
       "      <th>observations_open_ref_greengenes</th>\n",
       "      <th>observations_deblur_90bp</th>\n",
       "      <th>observations_deblur_100bp</th>\n",
       "      <th>observations_deblur_150bp</th>\n",
       "    </tr>\n",
       "    <tr>\n",
       "      <th>#SampleID</th>\n",
       "      <th></th>\n",
       "      <th></th>\n",
       "      <th></th>\n",
       "      <th></th>\n",
       "      <th></th>\n",
       "      <th></th>\n",
       "      <th></th>\n",
       "    </tr>\n",
       "  </thead>\n",
       "  <tbody>\n",
       "    <tr>\n",
       "      <th>550.L1S116.s.1.sequence</th>\n",
       "      <td>33383</td>\n",
       "      <td>32153</td>\n",
       "      <td>32453</td>\n",
       "      <td>33337</td>\n",
       "      <td>22567</td>\n",
       "      <td>22160</td>\n",
       "      <td>1043</td>\n",
       "    </tr>\n",
       "    <tr>\n",
       "      <th>550.L1S119.s.1.sequence</th>\n",
       "      <td>40944</td>\n",
       "      <td>39472</td>\n",
       "      <td>39929</td>\n",
       "      <td>40870</td>\n",
       "      <td>27871</td>\n",
       "      <td>27191</td>\n",
       "      <td>1272</td>\n",
       "    </tr>\n",
       "    <tr>\n",
       "      <th>550.L1S164.s.1.sequence</th>\n",
       "      <td>35636</td>\n",
       "      <td>34550</td>\n",
       "      <td>34666</td>\n",
       "      <td>35599</td>\n",
       "      <td>24134</td>\n",
       "      <td>23686</td>\n",
       "      <td>1161</td>\n",
       "    </tr>\n",
       "    <tr>\n",
       "      <th>550.L1S194.s.1.sequence</th>\n",
       "      <td>46992</td>\n",
       "      <td>43925</td>\n",
       "      <td>43852</td>\n",
       "      <td>46875</td>\n",
       "      <td>30041</td>\n",
       "      <td>29264</td>\n",
       "      <td>1974</td>\n",
       "    </tr>\n",
       "    <tr>\n",
       "      <th>550.L1S20.s.1.sequence</th>\n",
       "      <td>30131</td>\n",
       "      <td>29179</td>\n",
       "      <td>29553</td>\n",
       "      <td>30094</td>\n",
       "      <td>21132</td>\n",
       "      <td>20643</td>\n",
       "      <td>603</td>\n",
       "    </tr>\n",
       "  </tbody>\n",
       "</table>\n",
       "</div>"
      ],
      "text/plain": [
       "                         sequences_split_libraries  \\\n",
       "#SampleID                                            \n",
       "550.L1S116.s.1.sequence                      33383   \n",
       "550.L1S119.s.1.sequence                      40944   \n",
       "550.L1S164.s.1.sequence                      35636   \n",
       "550.L1S194.s.1.sequence                      46992   \n",
       "550.L1S20.s.1.sequence                       30131   \n",
       "\n",
       "                         observations_closed_ref_greengenes  \\\n",
       "#SampleID                                                     \n",
       "550.L1S116.s.1.sequence                               32153   \n",
       "550.L1S119.s.1.sequence                               39472   \n",
       "550.L1S164.s.1.sequence                               34550   \n",
       "550.L1S194.s.1.sequence                               43925   \n",
       "550.L1S20.s.1.sequence                                29179   \n",
       "\n",
       "                         observations_closed_ref_silva  \\\n",
       "#SampleID                                                \n",
       "550.L1S116.s.1.sequence                          32453   \n",
       "550.L1S119.s.1.sequence                          39929   \n",
       "550.L1S164.s.1.sequence                          34666   \n",
       "550.L1S194.s.1.sequence                          43852   \n",
       "550.L1S20.s.1.sequence                           29553   \n",
       "\n",
       "                         observations_open_ref_greengenes  \\\n",
       "#SampleID                                                   \n",
       "550.L1S116.s.1.sequence                             33337   \n",
       "550.L1S119.s.1.sequence                             40870   \n",
       "550.L1S164.s.1.sequence                             35599   \n",
       "550.L1S194.s.1.sequence                             46875   \n",
       "550.L1S20.s.1.sequence                              30094   \n",
       "\n",
       "                         observations_deblur_90bp  observations_deblur_100bp  \\\n",
       "#SampleID                                                                      \n",
       "550.L1S116.s.1.sequence                     22567                      22160   \n",
       "550.L1S119.s.1.sequence                     27871                      27191   \n",
       "550.L1S164.s.1.sequence                     24134                      23686   \n",
       "550.L1S194.s.1.sequence                     30041                      29264   \n",
       "550.L1S20.s.1.sequence                      21132                      20643   \n",
       "\n",
       "                         observations_deblur_150bp  \n",
       "#SampleID                                           \n",
       "550.L1S116.s.1.sequence                       1043  \n",
       "550.L1S119.s.1.sequence                       1272  \n",
       "550.L1S164.s.1.sequence                       1161  \n",
       "550.L1S194.s.1.sequence                       1974  \n",
       "550.L1S20.s.1.sequence                         603  "
      ]
     },
     "execution_count": 78,
     "metadata": {},
     "output_type": "execute_result"
    }
   ],
   "source": [
    "# Make a new DataFrame called df_seqs from columns sequences_split_libraries through observations_deblur_150bp (column positions 17-23) of the existing DataFrame. What is the mean value of column observations_deblur_90bp?\n",
    "df_seqs1 = df.loc[:,\"sequences_split_libraries\":\"observations_deblur_150bp\"]\n",
    "df_seqs1.head()"
   ]
  },
  {
   "cell_type": "code",
   "execution_count": 84,
   "metadata": {},
   "outputs": [
    {
     "data": {
      "text/html": [
       "<div>\n",
       "<style scoped>\n",
       "    .dataframe tbody tr th:only-of-type {\n",
       "        vertical-align: middle;\n",
       "    }\n",
       "\n",
       "    .dataframe tbody tr th {\n",
       "        vertical-align: top;\n",
       "    }\n",
       "\n",
       "    .dataframe thead th {\n",
       "        text-align: right;\n",
       "    }\n",
       "</style>\n",
       "<table border=\"1\" class=\"dataframe\">\n",
       "  <thead>\n",
       "    <tr style=\"text-align: right;\">\n",
       "      <th></th>\n",
       "      <th>sequences_split_libraries</th>\n",
       "      <th>observations_closed_ref_greengenes</th>\n",
       "      <th>observations_closed_ref_silva</th>\n",
       "      <th>observations_open_ref_greengenes</th>\n",
       "      <th>observations_deblur_90bp</th>\n",
       "      <th>observations_deblur_100bp</th>\n",
       "      <th>observations_deblur_150bp</th>\n",
       "    </tr>\n",
       "    <tr>\n",
       "      <th>#SampleID</th>\n",
       "      <th></th>\n",
       "      <th></th>\n",
       "      <th></th>\n",
       "      <th></th>\n",
       "      <th></th>\n",
       "      <th></th>\n",
       "      <th></th>\n",
       "    </tr>\n",
       "  </thead>\n",
       "  <tbody>\n",
       "    <tr>\n",
       "      <th>550.L1S116.s.1.sequence</th>\n",
       "      <td>33383</td>\n",
       "      <td>32153</td>\n",
       "      <td>32453</td>\n",
       "      <td>33337</td>\n",
       "      <td>22567</td>\n",
       "      <td>22160</td>\n",
       "      <td>1043</td>\n",
       "    </tr>\n",
       "    <tr>\n",
       "      <th>550.L1S119.s.1.sequence</th>\n",
       "      <td>40944</td>\n",
       "      <td>39472</td>\n",
       "      <td>39929</td>\n",
       "      <td>40870</td>\n",
       "      <td>27871</td>\n",
       "      <td>27191</td>\n",
       "      <td>1272</td>\n",
       "    </tr>\n",
       "    <tr>\n",
       "      <th>550.L1S164.s.1.sequence</th>\n",
       "      <td>35636</td>\n",
       "      <td>34550</td>\n",
       "      <td>34666</td>\n",
       "      <td>35599</td>\n",
       "      <td>24134</td>\n",
       "      <td>23686</td>\n",
       "      <td>1161</td>\n",
       "    </tr>\n",
       "    <tr>\n",
       "      <th>550.L1S194.s.1.sequence</th>\n",
       "      <td>46992</td>\n",
       "      <td>43925</td>\n",
       "      <td>43852</td>\n",
       "      <td>46875</td>\n",
       "      <td>30041</td>\n",
       "      <td>29264</td>\n",
       "      <td>1974</td>\n",
       "    </tr>\n",
       "    <tr>\n",
       "      <th>550.L1S20.s.1.sequence</th>\n",
       "      <td>30131</td>\n",
       "      <td>29179</td>\n",
       "      <td>29553</td>\n",
       "      <td>30094</td>\n",
       "      <td>21132</td>\n",
       "      <td>20643</td>\n",
       "      <td>603</td>\n",
       "    </tr>\n",
       "  </tbody>\n",
       "</table>\n",
       "</div>"
      ],
      "text/plain": [
       "                         sequences_split_libraries  \\\n",
       "#SampleID                                            \n",
       "550.L1S116.s.1.sequence                      33383   \n",
       "550.L1S119.s.1.sequence                      40944   \n",
       "550.L1S164.s.1.sequence                      35636   \n",
       "550.L1S194.s.1.sequence                      46992   \n",
       "550.L1S20.s.1.sequence                       30131   \n",
       "\n",
       "                         observations_closed_ref_greengenes  \\\n",
       "#SampleID                                                     \n",
       "550.L1S116.s.1.sequence                               32153   \n",
       "550.L1S119.s.1.sequence                               39472   \n",
       "550.L1S164.s.1.sequence                               34550   \n",
       "550.L1S194.s.1.sequence                               43925   \n",
       "550.L1S20.s.1.sequence                                29179   \n",
       "\n",
       "                         observations_closed_ref_silva  \\\n",
       "#SampleID                                                \n",
       "550.L1S116.s.1.sequence                          32453   \n",
       "550.L1S119.s.1.sequence                          39929   \n",
       "550.L1S164.s.1.sequence                          34666   \n",
       "550.L1S194.s.1.sequence                          43852   \n",
       "550.L1S20.s.1.sequence                           29553   \n",
       "\n",
       "                         observations_open_ref_greengenes  \\\n",
       "#SampleID                                                   \n",
       "550.L1S116.s.1.sequence                             33337   \n",
       "550.L1S119.s.1.sequence                             40870   \n",
       "550.L1S164.s.1.sequence                             35599   \n",
       "550.L1S194.s.1.sequence                             46875   \n",
       "550.L1S20.s.1.sequence                              30094   \n",
       "\n",
       "                         observations_deblur_90bp  observations_deblur_100bp  \\\n",
       "#SampleID                                                                      \n",
       "550.L1S116.s.1.sequence                     22567                      22160   \n",
       "550.L1S119.s.1.sequence                     27871                      27191   \n",
       "550.L1S164.s.1.sequence                     24134                      23686   \n",
       "550.L1S194.s.1.sequence                     30041                      29264   \n",
       "550.L1S20.s.1.sequence                      21132                      20643   \n",
       "\n",
       "                         observations_deblur_150bp  \n",
       "#SampleID                                           \n",
       "550.L1S116.s.1.sequence                       1043  \n",
       "550.L1S119.s.1.sequence                       1272  \n",
       "550.L1S164.s.1.sequence                       1161  \n",
       "550.L1S194.s.1.sequence                       1974  \n",
       "550.L1S20.s.1.sequence                         603  "
      ]
     },
     "execution_count": 84,
     "metadata": {},
     "output_type": "execute_result"
    }
   ],
   "source": [
    "df_seqs2 = df.iloc[:,17:24]\n",
    "df_seqs2.head() # these two behave differently "
   ]
  },
  {
   "cell_type": "code",
   "execution_count": 83,
   "metadata": {},
   "outputs": [
    {
     "data": {
      "text/plain": [
       "64789.0535"
      ]
     },
     "execution_count": 83,
     "metadata": {},
     "output_type": "execute_result"
    }
   ],
   "source": [
    "df_seqs1[\"observations_deblur_90bp\"].mean()"
   ]
  },
  {
   "cell_type": "code",
   "execution_count": null,
   "metadata": {},
   "outputs": [],
   "source": [
    "# Save df_seqs as a csv file."
   ]
  },
  {
   "cell_type": "code",
   "execution_count": 89,
   "metadata": {},
   "outputs": [],
   "source": [
    "df_seqs1.to_csv(\"/Users/ruijuanli/Desktop/python-data-analysis_RuijuanL/chapter_5/df_seq1.csv\", sep=',')"
   ]
  },
  {
   "cell_type": "code",
   "execution_count": null,
   "metadata": {},
   "outputs": [],
   "source": []
  },
  {
   "cell_type": "code",
   "execution_count": null,
   "metadata": {},
   "outputs": [],
   "source": []
  },
  {
   "cell_type": "code",
   "execution_count": null,
   "metadata": {},
   "outputs": [],
   "source": []
  },
  {
   "cell_type": "code",
   "execution_count": null,
   "metadata": {},
   "outputs": [],
   "source": []
  },
  {
   "cell_type": "code",
   "execution_count": null,
   "metadata": {},
   "outputs": [],
   "source": []
  }
 ],
 "metadata": {
  "kernelspec": {
   "display_name": "Python 3",
   "language": "python",
   "name": "python3"
  },
  "language_info": {
   "codemirror_mode": {
    "name": "ipython",
    "version": 3
   },
   "file_extension": ".py",
   "mimetype": "text/x-python",
   "name": "python",
   "nbconvert_exporter": "python",
   "pygments_lexer": "ipython3",
   "version": "3.6.5"
  }
 },
 "nbformat": 4,
 "nbformat_minor": 2
}
