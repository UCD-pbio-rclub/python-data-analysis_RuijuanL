{
 "cells": [
  {
   "cell_type": "code",
   "execution_count": 8,
   "metadata": {},
   "outputs": [
    {
     "data": {
      "text/plain": [
       "(16,)"
      ]
     },
     "execution_count": 8,
     "metadata": {},
     "output_type": "execute_result"
    }
   ],
   "source": [
    "# pip3 install pandas \n",
    "import pandas as pd\n",
    "\n",
    "import numpy as np\n",
    "\n",
    "# problems for Nov 16\n",
    "\n",
    "# import the data set\n",
    "\n",
    "data = pd.read_csv(\"~/Desktop/python-data-analysis_RuijuanL/chapter_4/data/Brapa_cpm.csv\")\n",
    "\n",
    "data = np.array(data)\n",
    "\n",
    "data.shape\n",
    "data[0:3,0:3] # print the first 3 samples first 3 genes values \n",
    "data[data < 0].shape\n",
    "# rows are genes (100 genes), columns are samples (36)"
   ]
  },
  {
   "cell_type": "code",
   "execution_count": 36,
   "metadata": {},
   "outputs": [
    {
     "data": {
      "text/plain": [
       "array([[-0.3812662 , -1.62549574, -1.25391813],\n",
       "       [ 3.95531712,  3.66145377,  3.61294041],\n",
       "       [-0.37564489, -0.02549485, -0.4465632 ]])"
      ]
     },
     "execution_count": 36,
     "metadata": {},
     "output_type": "execute_result"
    }
   ],
   "source": [
    "# Q1: make a new array where the values are converted to log2 cpm\n",
    "# replace negatives and zero with positive min value \n",
    "data_2 = np.where(data > 0, data, data[data > 0].min()) # why are there negative values? \n",
    "data_log2 = np.log2(data_2)\n",
    "data_log2[0:3, 0:3]"
   ]
  },
  {
   "cell_type": "code",
   "execution_count": 37,
   "metadata": {},
   "outputs": [
    {
     "data": {
      "text/plain": [
       "9.616585599872312"
      ]
     },
     "execution_count": 37,
     "metadata": {},
     "output_type": "execute_result"
    }
   ],
   "source": [
    "# Q2: Which gene has the highest expression?\n",
    "np.max(data_log2)"
   ]
  },
  {
   "cell_type": "code",
   "execution_count": 38,
   "metadata": {},
   "outputs": [
    {
     "data": {
      "text/plain": [
       "(array([83]), array([4]))"
      ]
     },
     "execution_count": 38,
     "metadata": {},
     "output_type": "execute_result"
    }
   ],
   "source": [
    "np.where(data_log2==np.max(data_log2)) # row 83, col 4 "
   ]
  },
  {
   "cell_type": "code",
   "execution_count": 39,
   "metadata": {},
   "outputs": [
    {
     "data": {
      "text/plain": [
       "array([[-7.39164159, -7.39164159, -7.39164159],\n",
       "       [ 3.57579875,  3.61294041,  3.66145377],\n",
       "       [-1.71091226, -1.70441931, -1.56741586]])"
      ]
     },
     "execution_count": 39,
     "metadata": {},
     "output_type": "execute_result"
    }
   ],
   "source": [
    "# Q3: Make a new array in which each row is sorted by expression\n",
    "data_sorted = np.sort(data_log2, axis=1) \n",
    "data_sorted[0:3,0:3]"
   ]
  },
  {
   "cell_type": "code",
   "execution_count": 40,
   "metadata": {},
   "outputs": [],
   "source": [
    "# Q4: Make a new array in which the samples are sorted according to average expression.  NOTE this is different than sorting each row...explain how\n",
    "# calc. the average for each column, then sort columns based the averages \n",
    "\n",
    "indexer = np.mean(data_log2, axis=0).argsort()"
   ]
  },
  {
   "cell_type": "code",
   "execution_count": 41,
   "metadata": {},
   "outputs": [
    {
     "data": {
      "text/plain": [
       "array([-0.13162466,  0.01722934,  0.03393228,  0.0648103 ,  0.08965546,\n",
       "        0.1003771 ,  0.14598664,  0.14744709,  0.16420508,  0.16960409,\n",
       "        0.18903806,  0.20820288,  0.21183151,  0.22072715,  0.23018366,\n",
       "        0.23584093,  0.24613962,  0.24834476,  0.25634198,  0.27197531,\n",
       "        0.28017579,  0.28171417,  0.29090921,  0.30893413,  0.31393271,\n",
       "        0.3183693 ,  0.31997188,  0.32712658,  0.33703118,  0.35551922,\n",
       "        0.35693326,  0.35696776,  0.37616761,  0.37919052,  0.43682551,\n",
       "        0.45059008])"
      ]
     },
     "execution_count": 41,
     "metadata": {},
     "output_type": "execute_result"
    }
   ],
   "source": [
    "np.mean(data_log2, axis=0)[indexer]"
   ]
  },
  {
   "cell_type": "code",
   "execution_count": 42,
   "metadata": {},
   "outputs": [
    {
     "data": {
      "text/plain": [
       "(100, 36)"
      ]
     },
     "execution_count": 42,
     "metadata": {},
     "output_type": "execute_result"
    }
   ],
   "source": [
    "data_sorted2 = data_log2[:, indexer] \n",
    "data_sorted2.shape"
   ]
  },
  {
   "cell_type": "code",
   "execution_count": 43,
   "metadata": {},
   "outputs": [
    {
     "data": {
      "text/plain": [
       "(2195,)"
      ]
     },
     "execution_count": 43,
     "metadata": {},
     "output_type": "execute_result"
    }
   ],
   "source": [
    "# Q5: what is the total number of unique values in the table?\n",
    "\n",
    "np.unique(data_log2).shape"
   ]
  },
  {
   "cell_type": "code",
   "execution_count": 47,
   "metadata": {},
   "outputs": [
    {
     "data": {
      "text/plain": [
       "array([[ 0.        ,  0.        ,  0.        ],\n",
       "       [15.51204642, 12.65340514, 12.23498485],\n",
       "       [ 0.        ,  0.        ,  0.        ]])"
      ]
     },
     "execution_count": 47,
     "metadata": {},
     "output_type": "execute_result"
    }
   ],
   "source": [
    "# Q6: Make a new array in which any cell that has less than 10 cpm is replaced with 0\n",
    "\n",
    "data_3 = np.where(data >= 10, data, 0)\n",
    "data_3[0:3,0:3]"
   ]
  },
  {
   "cell_type": "code",
   "execution_count": 63,
   "metadata": {},
   "outputs": [
    {
     "data": {
      "text/plain": [
       "array([ 0, 36,  0, 36,  0,  0,  3, 36, 36, 24,  0,  1,  0,  0,  0,  0, 36,\n",
       "        0,  7, 36,  0,  0,  0,  3,  0, 36, 36,  0,  0,  0, 15, 36,  2,  4,\n",
       "       36,  0,  0,  0, 20,  0,  0,  5, 36,  0, 36,  0, 36, 31,  0,  0,  0,\n",
       "        0, 36, 36,  0,  0, 36, 36, 35,  0,  0,  0, 36,  0,  0,  1,  8,  0,\n",
       "        0, 36,  0, 36, 12,  0, 36,  0,  0, 31, 13,  0,  0,  0, 19, 36, 36,\n",
       "        0,  0,  5,  0, 36, 17, 17,  0,  0, 36,  0,  0, 36, 36,  0])"
      ]
     },
     "execution_count": 63,
     "metadata": {},
     "output_type": "execute_result"
    }
   ],
   "source": [
    "# Q7: Make a new array that only retains genes that are expressed at > 10 cpm in at least half the samples.  (I haven't checked, maybe all genes will pass)\n",
    "\n",
    "filter = np.sum(data > 10, axis=1) \n",
    "filter"
   ]
  },
  {
   "cell_type": "code",
   "execution_count": 82,
   "metadata": {},
   "outputs": [
    {
     "data": {
      "text/plain": [
       "33"
      ]
     },
     "execution_count": 82,
     "metadata": {},
     "output_type": "execute_result"
    }
   ],
   "source": [
    "np.sum(filter > 18)\n",
    "# np.extract[data[filter > 36 * 0.5]]"
   ]
  },
  {
   "cell_type": "code",
   "execution_count": 84,
   "metadata": {},
   "outputs": [
    {
     "data": {
      "text/plain": [
       "(33, 36)"
      ]
     },
     "execution_count": 84,
     "metadata": {},
     "output_type": "execute_result"
    }
   ],
   "source": [
    "data_filtered = data[filter > 18, :]\n",
    "data_filtered.shape"
   ]
  },
  {
   "cell_type": "code",
   "execution_count": 96,
   "metadata": {},
   "outputs": [
    {
     "data": {
      "text/plain": [
       "array([0.3609504 , 2.04130479, 3.39034592, 7.58404114, 0.84646149,\n",
       "       0.46792204, 3.30205839, 5.48029964, 4.33871817, 5.90066361])"
      ]
     },
     "execution_count": 96,
     "metadata": {},
     "output_type": "execute_result"
    }
   ],
   "source": [
    "# Q8 calculate the standard deviation for each gene using the builtin function\n",
    "\n",
    "data_std = np.std(data, axis=1)\n",
    "data_std[0:10]"
   ]
  },
  {
   "cell_type": "code",
   "execution_count": 114,
   "metadata": {},
   "outputs": [
    {
     "data": {
      "text/plain": [
       "(100, 1)"
      ]
     },
     "execution_count": 114,
     "metadata": {},
     "output_type": "execute_result"
    }
   ],
   "source": [
    "# Q9 calcualte the standard deviation for each gene WITHOUT using the builtin function\n",
    "\n",
    "# calc. the mean for each gene --> for each gene value, minus its mean, then square --> \n",
    "# sum all squared values --> devide by the number of data points, then take square root \n",
    "\n",
    "gene_mean = np.mean(data, axis=1, keepdims=True)\n",
    "gene_mean.shape"
   ]
  },
  {
   "cell_type": "code",
   "execution_count": 128,
   "metadata": {},
   "outputs": [
    {
     "data": {
      "text/plain": [
       "array([0.3609504 , 2.04130479, 3.39034592, 7.58404114, 0.84646149,\n",
       "       0.46792204, 3.30205839, 5.48029964, 4.33871817, 5.90066361])"
      ]
     },
     "execution_count": 128,
     "metadata": {},
     "output_type": "execute_result"
    }
   ],
   "source": [
    "gene_square = np.square(data - gene_mean)\n",
    "data_std2 = np.sqrt(np.sum(gene_square, axis=1)/36) \n",
    "data_std2[0:10]"
   ]
  },
  {
   "cell_type": "code",
   "execution_count": 129,
   "metadata": {},
   "outputs": [
    {
     "data": {
      "text/plain": [
       "array([[7.67763456e-01, 3.24098503e-01, 4.19307887e-01, 1.13099691e+00,\n",
       "        0.00000000e+00, 8.72953347e-01, 0.00000000e+00, 0.00000000e+00,\n",
       "        6.03602948e-01, 0.00000000e+00],\n",
       "       [1.55120464e+01, 1.26534051e+01, 1.22349849e+01, 1.19240196e+01,\n",
       "        1.60253260e+01, 1.55811988e+01, 1.32974897e+01, 1.26599674e+01,\n",
       "        1.70910175e+01, 1.66190646e+01],\n",
       "       [7.70760805e-01, 9.82483546e-01, 7.33788803e-01, 4.87178533e-01,\n",
       "        4.90331043e-01, 7.36190656e-01, 7.53389851e-01, 4.74891792e-01,\n",
       "        3.05466853e-01, 5.62336727e-01],\n",
       "       [3.54812668e+01, 4.87690464e+01, 4.44683352e+01, 4.37802439e+01,\n",
       "        3.79066757e+01, 3.62440045e+01, 4.64650021e+01, 4.77761529e+01,\n",
       "        4.92132574e+01, 4.01588516e+01],\n",
       "       [1.22842153e+00, 2.10664027e+00, 1.04826972e+00, 1.45413888e+00,\n",
       "        9.80662086e-01, 2.47336782e+00, 1.04583942e+00, 1.10313879e+00,\n",
       "        1.35810663e+00, 3.48159898e+00],\n",
       "       [1.22842153e+00, 0.00000000e+00, 9.43442747e-01, 1.29256789e+00,\n",
       "        3.26887362e-01, 8.72953347e-01, 1.49405632e-01, 1.57591255e-01,\n",
       "        0.00000000e+00, 1.39263959e-01],\n",
       "       [9.98092493e+00, 1.41860508e+01, 1.11116590e+01, 8.24012032e+00,\n",
       "        4.73986675e+00, 5.81968898e+00, 7.02206470e+00, 1.25202943e+01,\n",
       "        6.79053317e+00, 4.17791878e+00],\n",
       "       [5.22079150e+01, 5.18557605e+01, 4.50755979e+01, 4.83097250e+01,\n",
       "        4.85427733e+01, 5.04858019e+01, 4.64651515e+01, 4.80653328e+01,\n",
       "        4.78355336e+01, 5.13884010e+01],\n",
       "       [2.32475703e+01, 1.59494059e+01, 1.64728248e+01, 1.83215036e+01,\n",
       "        1.96055599e+01, 1.88655403e+01, 1.55348988e+01, 1.69673777e+01,\n",
       "        2.00601404e+01, 2.26574106e+01],\n",
       "       [2.09630134e+01, 1.02564050e+01, 1.65867718e+01, 2.60129288e+01,\n",
       "        2.79488695e+01, 2.40062171e+01, 1.10321866e+01, 1.95413156e+01,\n",
       "        1.44864708e+01, 2.05662230e+01],\n",
       "       [0.00000000e+00, 0.00000000e+00, 0.00000000e+00, 1.61570987e-01,\n",
       "        0.00000000e+00, 0.00000000e+00, 0.00000000e+00, 0.00000000e+00,\n",
       "        1.50900737e-01, 0.00000000e+00],\n",
       "       [1.22842153e+00, 9.72295509e-01, 8.38615775e-01, 4.84712960e-01,\n",
       "        3.26887362e-01, 1.45492225e-01, 1.49405632e-01, 7.87956276e-01,\n",
       "        1.65990811e+00, 4.17791878e-01],\n",
       "       [2.30329037e+00, 2.75483728e+00, 3.14480915e+00, 4.36241664e+00,\n",
       "        4.41297939e+00, 4.07378229e+00, 2.68930137e+00, 3.46700761e+00,\n",
       "        9.05404422e-01, 1.39263959e+00],\n",
       "       [0.00000000e+00, 0.00000000e+00, 0.00000000e+00, 0.00000000e+00,\n",
       "        0.00000000e+00, 0.00000000e+00, 0.00000000e+00, 0.00000000e+00,\n",
       "        0.00000000e+00, 0.00000000e+00],\n",
       "       [1.07486884e+00, 2.91688653e+00, 2.41102035e+00, 2.90827776e+00,\n",
       "        3.43231730e+00, 8.72953347e-01, 1.04583942e+00, 6.30365021e-01,\n",
       "        3.01801474e-01, 5.57055837e-01],\n",
       "       [0.00000000e+00, 0.00000000e+00, 2.09653944e-01, 0.00000000e+00,\n",
       "        0.00000000e+00, 4.36476674e-01, 1.49405632e-01, 0.00000000e+00,\n",
       "        0.00000000e+00, 0.00000000e+00],\n",
       "       [4.59122547e+01, 4.50496919e+01, 5.46148523e+01, 7.09296631e+01,\n",
       "        6.57043598e+01, 4.55390663e+01, 4.94532642e+01, 4.53862815e+01,\n",
       "        2.44459194e+01, 4.54000507e+01],\n",
       "       [4.29947535e+00, 5.18557605e+00, 6.28961831e+00, 4.84712960e+00,\n",
       "        5.55708516e+00, 5.67419676e+00, 5.22919712e+00, 4.72773765e+00,\n",
       "        4.37612137e+00, 5.43129441e+00],\n",
       "       [7.67763456e+00, 1.11813984e+01, 9.43442747e+00, 9.69425919e+00,\n",
       "        7.02807829e+00, 9.16601015e+00, 8.81493228e+00, 6.77642397e+00,\n",
       "        9.50674643e+00, 1.11411167e+01],\n",
       "       [4.90889528e+02, 6.09467235e+02, 6.47440730e+02, 5.95227514e+02,\n",
       "        5.51356010e+02, 4.88607993e+02, 4.96592945e+02, 5.52409354e+02,\n",
       "        5.22490784e+02, 5.21778884e+02],\n",
       "       [0.00000000e+00, 0.00000000e+00, 0.00000000e+00, 0.00000000e+00,\n",
       "        0.00000000e+00, 0.00000000e+00, 0.00000000e+00, 0.00000000e+00,\n",
       "        0.00000000e+00, 0.00000000e+00],\n",
       "       [0.00000000e+00, 0.00000000e+00, 0.00000000e+00, 0.00000000e+00,\n",
       "        0.00000000e+00, 0.00000000e+00, 0.00000000e+00, 0.00000000e+00,\n",
       "        0.00000000e+00, 0.00000000e+00],\n",
       "       [1.38197422e+00, 1.62049252e+00, 4.19307887e-01, 1.29256789e+00,\n",
       "        2.12476785e+00, 1.45492225e+00, 1.34465069e+00, 1.57591255e+00,\n",
       "        1.05630516e+00, 1.11411167e+00],\n",
       "       [7.06342380e+00, 3.07893578e+00, 3.77377099e+00, 3.23141973e+00,\n",
       "        2.94198626e+00, 2.61886004e+00, 4.93038585e+00, 5.98846770e+00,\n",
       "        8.45044127e+00, 4.17791878e+00],\n",
       "       [3.12553432e-01, 3.24098503e-01, 4.19307887e-01, 5.01605206e-01,\n",
       "        8.17218405e-01, 4.36476674e-01, 1.22015546e+00, 9.45547531e-01,\n",
       "        6.03602948e-01, 4.24097750e-01],\n",
       "       [9.08827707e+01, 1.08500563e+02, 1.07865906e+02, 1.02116418e+02,\n",
       "        9.63739128e+01, 1.01479081e+02, 1.07177475e+02, 1.17754865e+02,\n",
       "        1.08016407e+02, 1.04695859e+02],\n",
       "       [1.04105346e+02, 7.25074792e+01, 1.09990749e+02, 1.08181631e+02,\n",
       "        1.33613738e+02, 1.40809703e+02, 1.09804175e+02, 1.02563068e+02,\n",
       "        1.18828747e+02, 1.24911834e+02],\n",
       "       [0.00000000e+00, 0.00000000e+00, 0.00000000e+00, 0.00000000e+00,\n",
       "        3.26887362e-01, 1.45492225e-01, 0.00000000e+00, 1.57591255e-01,\n",
       "        0.00000000e+00, 1.39263959e-01],\n",
       "       [0.00000000e+00, 0.00000000e+00, 0.00000000e+00, 1.61570987e-01,\n",
       "        0.00000000e+00, 0.00000000e+00, 0.00000000e+00, 0.00000000e+00,\n",
       "        0.00000000e+00, 0.00000000e+00],\n",
       "       [0.00000000e+00, 0.00000000e+00, 0.00000000e+00, 0.00000000e+00,\n",
       "        0.00000000e+00, 0.00000000e+00, 0.00000000e+00, 0.00000000e+00,\n",
       "        1.50900737e-01, 0.00000000e+00],\n",
       "       [6.29566034e+00, 7.61631482e+00, 6.07996437e+00, 4.84712960e+00,\n",
       "        6.86463460e+00, 6.83813455e+00, 6.12563091e+00, 5.98846770e+00,\n",
       "        7.39413611e+00, 9.01355338e+00],\n",
       "       [4.02308051e+01, 4.63460859e+01, 3.94149414e+01, 3.79691818e+01,\n",
       "        3.79189340e+01, 3.65185484e+01, 4.30288220e+01, 4.05009526e+01,\n",
       "        4.46666182e+01, 3.92714617e+01],\n",
       "       [7.00518126e+00, 7.24204587e+00, 1.04224426e+01, 1.09357868e+01,\n",
       "        7.23274246e+00, 5.76499846e+00, 6.37241913e+00, 6.06477338e+00,\n",
       "        1.63816331e+00, 5.97395036e+00],\n",
       "       [6.14210765e+00, 7.61631482e+00, 2.30619338e+00, 6.13969749e+00,\n",
       "        7.19152197e+00, 5.09222786e+00, 3.58573517e+00, 7.56438025e+00,\n",
       "        7.54503685e-01, 1.53190355e+00],\n",
       "       [5.81811147e+02, 5.83863453e+02, 4.31258162e+02, 4.62739305e+02,\n",
       "        4.71861907e+02, 4.69756565e+02, 5.49513914e+02, 6.06214161e+02,\n",
       "        5.65084026e+02, 4.44669822e+02],\n",
       "       [0.00000000e+00, 0.00000000e+00, 1.04826972e-01, 1.61570987e-01,\n",
       "        3.26887362e-01, 5.81968898e-01, 4.48216896e-01, 9.45547531e-01,\n",
       "        1.50900737e-01, 1.39263959e-01],\n",
       "       [1.38197422e+00, 3.24098503e-01, 1.04826972e-01, 0.00000000e+00,\n",
       "        0.00000000e+00, 1.45492225e-01, 1.49405632e-01, 0.00000000e+00,\n",
       "        6.03602948e-01, 1.39263959e-01],\n",
       "       [0.00000000e+00, 0.00000000e+00, 0.00000000e+00, 0.00000000e+00,\n",
       "        0.00000000e+00, 0.00000000e+00, 0.00000000e+00, 0.00000000e+00,\n",
       "        0.00000000e+00, 0.00000000e+00],\n",
       "       [5.52789688e+00, 7.45426557e+00, 4.29790584e+00, 4.68555861e+00,\n",
       "        3.26887362e+00, 4.36476674e+00, 5.07979148e+00, 5.51569393e+00,\n",
       "        6.94143390e+00, 3.89939086e+00],\n",
       "       [0.00000000e+00, 0.00000000e+00, 0.00000000e+00, 0.00000000e+00,\n",
       "        0.00000000e+00, 0.00000000e+00, 0.00000000e+00, 0.00000000e+00,\n",
       "        0.00000000e+00, 1.39263959e-01],\n",
       "       [0.00000000e+00, 0.00000000e+00, 0.00000000e+00, 0.00000000e+00,\n",
       "        0.00000000e+00, 0.00000000e+00, 0.00000000e+00, 0.00000000e+00,\n",
       "        0.00000000e+00, 0.00000000e+00],\n",
       "       [8.29184533e+00, 7.45426557e+00, 9.11994655e+00, 1.06636851e+01,\n",
       "        7.68185301e+00, 1.03299479e+01, 8.66552665e+00, 1.00858403e+01,\n",
       "        9.95944864e+00, 7.24172588e+00],\n",
       "       [3.39351448e+01, 2.96550130e+01, 3.18225335e+01, 3.63534720e+01,\n",
       "        3.39962857e+01, 4.52480818e+01, 3.54733792e+01, 3.45124849e+01,\n",
       "        3.19909562e+01, 3.87891906e+01],\n",
       "       [3.07105382e-01, 4.86147755e-01, 6.28961831e-01, 1.61570987e-01,\n",
       "        0.00000000e+00, 4.36476674e-01, 7.47028159e-01, 6.30365021e-01,\n",
       "        0.00000000e+00, 0.00000000e+00],\n",
       "       [8.36862167e+01, 7.97282318e+01, 8.86836182e+01, 8.04623513e+01,\n",
       "        9.82296523e+01, 8.22031069e+01, 8.62070496e+01, 8.99846067e+01,\n",
       "        7.86192840e+01, 9.59528680e+01],\n",
       "       [0.00000000e+00, 0.00000000e+00, 0.00000000e+00, 0.00000000e+00,\n",
       "        1.63443681e-01, 0.00000000e+00, 0.00000000e+00, 0.00000000e+00,\n",
       "        0.00000000e+00, 0.00000000e+00],\n",
       "       [6.37862486e+01, 5.67640703e+01, 4.99648327e+01, 5.01474334e+01,\n",
       "        5.43772223e+01, 5.56276426e+01, 5.72338612e+01, 5.71213143e+01,\n",
       "        5.88197492e+01, 5.29583236e+01],\n",
       "       [5.92713388e+01, 7.55149512e+01, 6.26865292e+01, 6.65672465e+01,\n",
       "        5.45901895e+01, 5.39776153e+01, 5.49812725e+01, 6.11454070e+01,\n",
       "        4.67792285e+01, 4.72104822e+01],\n",
       "       [2.45684306e+00, 3.24098503e+00, 3.45929007e+00, 3.71613269e+00,\n",
       "        4.24953571e+00, 4.07378229e+00, 3.13751827e+00, 2.83664259e+00,\n",
       "        4.82882358e+00, 4.31718274e+00],\n",
       "       [0.00000000e+00, 0.00000000e+00, 0.00000000e+00, 0.00000000e+00,\n",
       "        0.00000000e+00, 0.00000000e+00, 0.00000000e+00, 0.00000000e+00,\n",
       "        0.00000000e+00, 0.00000000e+00],\n",
       "       [1.53552691e-01, 0.00000000e+00, 0.00000000e+00, 0.00000000e+00,\n",
       "        0.00000000e+00, 0.00000000e+00, 0.00000000e+00, 0.00000000e+00,\n",
       "        0.00000000e+00, 0.00000000e+00],\n",
       "       [0.00000000e+00, 0.00000000e+00, 0.00000000e+00, 0.00000000e+00,\n",
       "        0.00000000e+00, 0.00000000e+00, 0.00000000e+00, 0.00000000e+00,\n",
       "        0.00000000e+00, 0.00000000e+00],\n",
       "       [8.80699925e+01, 7.45582124e+01, 7.84912917e+01, 6.46752502e+01,\n",
       "        7.69764167e+01, 6.87801397e+01, 7.70423587e+01, 9.11074444e+01,\n",
       "        8.16433347e+01, 6.91544435e+01],\n",
       "       [1.50481637e+01, 2.15525505e+01, 2.37957226e+01, 2.42356480e+01,\n",
       "        2.35358901e+01, 1.87684970e+01, 2.12155997e+01, 2.11172282e+01,\n",
       "        1.59954781e+01, 1.93576903e+01],\n",
       "       [2.30329037e+00, 3.24098503e+00, 2.72550127e+00, 2.75851761e+00,\n",
       "        2.61509890e+00, 2.32787559e+00, 2.09167885e+00, 3.93978138e+00,\n",
       "        4.97972432e+00, 3.20307106e+00],\n",
       "       [0.00000000e+00, 0.00000000e+00, 0.00000000e+00, 0.00000000e+00,\n",
       "        0.00000000e+00, 0.00000000e+00, 0.00000000e+00, 0.00000000e+00,\n",
       "        0.00000000e+00, 0.00000000e+00],\n",
       "       [2.97892221e+01, 2.91688653e+01, 3.30204961e+01, 3.48875384e+01,\n",
       "        3.02370810e+01, 3.21537816e+01, 3.58573516e+01, 4.57014640e+01,\n",
       "        5.29661587e+01, 4.81853299e+01],\n",
       "       [3.79275147e+01, 3.50026383e+01, 3.50122086e+01, 3.34451942e+01,\n",
       "        3.39670292e+01, 3.86680505e+01, 4.12292311e+01, 3.34093461e+01,\n",
       "        4.20921007e+01, 3.96871646e+01],\n",
       "       [1.53552691e+01, 1.70151714e+01, 1.90785089e+01, 1.61570987e+01,\n",
       "        1.61809244e+01, 1.49856991e+01, 1.19524506e+01, 1.57591255e+01,\n",
       "        1.13175553e+01, 1.46227157e+01],\n",
       "       [0.00000000e+00, 0.00000000e+00, 0.00000000e+00, 0.00000000e+00,\n",
       "        0.00000000e+00, 0.00000000e+00, 0.00000000e+00, 0.00000000e+00,\n",
       "        0.00000000e+00, 0.00000000e+00],\n",
       "       [0.00000000e+00, 0.00000000e+00, 1.04826972e-01, 3.23141973e-01,\n",
       "        1.63443681e-01, 1.45492225e-01, 0.00000000e+00, 0.00000000e+00,\n",
       "        1.50900737e-01, 0.00000000e+00],\n",
       "       [0.00000000e+00, 0.00000000e+00, 0.00000000e+00, 0.00000000e+00,\n",
       "        0.00000000e+00, 0.00000000e+00, 0.00000000e+00, 0.00000000e+00,\n",
       "        0.00000000e+00, 0.00000000e+00],\n",
       "       [1.03494514e+02, 1.08897097e+02, 1.13737264e+02, 1.05828996e+02,\n",
       "        1.13429915e+02, 1.13483935e+02, 1.18329260e+02, 1.14096069e+02,\n",
       "        9.95944864e+01, 1.16563934e+02],\n",
       "       [1.84263229e+00, 2.26868952e+00, 1.78205852e+00, 8.07854933e-01,\n",
       "        6.53774724e-01, 1.30943002e+00, 1.64346195e+00, 7.87956276e-01,\n",
       "        4.52702211e-01, 8.35583756e-01],\n",
       "       [1.07486884e+00, 9.72295509e-01, 1.57240458e+00, 7.27069439e+00,\n",
       "        3.10542994e+00, 1.16393780e+00, 1.79286758e+00, 1.26073004e+00,\n",
       "        4.52702211e-01, 4.17791878e-01],\n",
       "       [3.53171190e+00, 3.07893578e+00, 4.92686768e+00, 2.10042282e+00,\n",
       "        3.59576098e+00, 4.80124341e+00, 4.84473160e+00, 5.51569393e+00,\n",
       "        5.13062506e+00, 3.62086294e+00],\n",
       "       [6.17575104e+00, 3.82335763e+00, 6.05881028e+00, 7.03489770e+00,\n",
       "        9.58383078e+00, 1.08709462e+01, 4.89288504e+00, 5.36314559e+00,\n",
       "        3.74064819e+00, 7.62211146e+00],\n",
       "       [9.21316147e-01, 6.48197006e-01, 1.15309669e+00, 1.29256789e+00,\n",
       "        1.79788049e+00, 1.30943002e+00, 7.47028159e-01, 7.87956276e-01,\n",
       "        7.54503685e-01, 1.39263959e-01],\n",
       "       [3.07105382e-01, 8.10246258e-01, 2.09653944e-01, 1.61570987e-01,\n",
       "        1.63443681e-01, 7.27461123e-01, 4.48216896e-01, 1.57591255e-01,\n",
       "        3.01801474e-01, 4.17791878e-01],\n",
       "       [8.39933221e+01, 7.37324095e+01, 8.44905393e+01, 7.12528051e+01,\n",
       "        7.27324381e+01, 9.04961637e+01, 5.19931599e+01, 3.87674488e+01,\n",
       "        7.39413611e+01, 5.36166243e+01],\n",
       "       [3.07105382e-01, 0.00000000e+00, 3.14480916e-01, 3.23141973e-01,\n",
       "        0.00000000e+00, 0.00000000e+00, 0.00000000e+00, 1.57591255e-01,\n",
       "        0.00000000e+00, 1.39263959e-01],\n",
       "       [5.88106807e+01, 5.62310903e+01, 3.01901679e+01, 3.21526263e+01,\n",
       "        3.92264835e+01, 3.88464240e+01, 3.75008136e+01, 4.86956978e+01,\n",
       "        3.53107725e+01, 2.68779442e+01],\n",
       "       [1.19771099e+01, 1.28018909e+01, 1.37323333e+01, 1.29256789e+01,\n",
       "        8.66251509e+00, 1.07664246e+01, 1.04583942e+01, 9.77065782e+00,\n",
       "        1.01103494e+01, 9.46994923e+00],\n",
       "       [0.00000000e+00, 0.00000000e+00, 1.04826972e-01, 0.00000000e+00,\n",
       "        1.63443681e-01, 0.00000000e+00, 0.00000000e+00, 0.00000000e+00,\n",
       "        0.00000000e+00, 0.00000000e+00],\n",
       "       [7.48902579e+01, 6.59540454e+01, 6.32928484e+01, 9.63896960e+01,\n",
       "        8.52788654e+01, 6.47044660e+01, 6.85771850e+01, 7.41737912e+01,\n",
       "        6.32274088e+01, 6.74825797e+01],\n",
       "       [3.37815921e+00, 5.02352680e+00, 6.39444528e+00, 5.97812650e+00,\n",
       "        5.23019779e+00, 3.63730561e+00, 3.88454643e+00, 5.35810267e+00,\n",
       "        2.56531253e+00, 3.20307106e+00],\n",
       "       [0.00000000e+00, 0.00000000e+00, 0.00000000e+00, 0.00000000e+00,\n",
       "        0.00000000e+00, 0.00000000e+00, 0.00000000e+00, 0.00000000e+00,\n",
       "        0.00000000e+00, 0.00000000e+00],\n",
       "       [8.67724723e+00, 7.82633065e+00, 1.04844792e+01, 9.85583018e+00,\n",
       "        1.48733750e+01, 1.25123313e+01, 9.56196044e+00, 1.13465704e+01,\n",
       "        1.17702575e+01, 1.12131023e+01],\n",
       "       [1.22842153e+00, 1.45844326e+00, 1.15309669e+00, 3.23141973e-01,\n",
       "        1.47099313e+00, 2.76435227e+00, 1.94227321e+00, 2.52146008e+00,\n",
       "        3.50898538e+00, 4.87423858e+00],\n",
       "       [0.00000000e+00, 0.00000000e+00, 0.00000000e+00, 0.00000000e+00,\n",
       "        0.00000000e+00, 0.00000000e+00, 0.00000000e+00, 0.00000000e+00,\n",
       "        0.00000000e+00, 0.00000000e+00],\n",
       "       [0.00000000e+00, 0.00000000e+00, 0.00000000e+00, 0.00000000e+00,\n",
       "        0.00000000e+00, 0.00000000e+00, 0.00000000e+00, 0.00000000e+00,\n",
       "        0.00000000e+00, 0.00000000e+00],\n",
       "       [0.00000000e+00, 0.00000000e+00, 0.00000000e+00, 0.00000000e+00,\n",
       "        0.00000000e+00, 0.00000000e+00, 0.00000000e+00, 0.00000000e+00,\n",
       "        0.00000000e+00, 0.00000000e+00],\n",
       "       [4.91368612e+00, 9.72295509e+00, 7.86202289e+00, 6.94755242e+00,\n",
       "        7.84529669e+00, 5.67419676e+00, 1.85189775e+01, 1.74926293e+01,\n",
       "        1.37190952e+01, 1.51797716e+01],\n",
       "       [6.15132081e+02, 6.01202723e+02, 5.72355266e+02, 4.96022929e+02,\n",
       "        7.85020000e+02, 4.78087450e+02, 4.71972391e+02, 5.35495085e+02,\n",
       "        3.43600978e+02, 5.09427563e+02],\n",
       "       [2.49216018e+02, 3.91835090e+02, 3.24229824e+02, 3.64019433e+02,\n",
       "        4.42115157e+02, 3.17755019e+02, 3.53643131e+02, 4.51498946e+02,\n",
       "        1.60860186e+02, 2.52485558e+02],\n",
       "       [4.76013343e+00, 4.53737904e+00, 7.02340711e+00, 5.17027157e+00,\n",
       "        4.24953571e+00, 4.65575119e+00, 6.57384780e+00, 6.61883272e+00,\n",
       "        4.82882358e+00, 4.59571066e+00],\n",
       "       [3.68526459e+00, 7.29221632e+00, 6.70892620e+00, 4.36241664e+00,\n",
       "        6.70119092e+00, 4.07378229e+00, 3.13751827e+00, 5.04292016e+00,\n",
       "        2.11261032e+00, 3.20307106e+00],\n",
       "       [1.84263229e+00, 1.78254177e+00, 2.09653944e+00, 0.00000000e+00,\n",
       "        1.14410577e+00, 3.20082894e+00, 1.34465069e+00, 1.10313879e+00,\n",
       "        1.96170958e+00, 3.06380710e+00],\n",
       "       [4.60658074e-01, 1.62049252e-01, 7.33788803e-01, 4.84712960e-01,\n",
       "        0.00000000e+00, 1.45492225e-01, 2.98811264e-01, 0.00000000e+00,\n",
       "        3.01801474e-01, 2.78527919e-01],\n",
       "       [1.23609916e+02, 1.36931618e+02, 1.26735809e+02, 1.54946576e+02,\n",
       "        1.40234678e+02, 1.36180722e+02, 1.41785945e+02, 1.28279282e+02,\n",
       "        1.15740865e+02, 1.38846167e+02],\n",
       "       [8.75250340e+00, 8.42656108e+00, 7.33788803e+00, 9.37111722e+00,\n",
       "        7.92701853e+00, 1.12756474e+01, 1.09066111e+01, 8.82511029e+00,\n",
       "        1.50900737e+01, 8.63436548e+00],\n",
       "       [8.75250340e+00, 8.42656108e+00, 7.33788803e+00, 9.37111722e+00,\n",
       "        7.92701853e+00, 1.12756474e+01, 1.09066111e+01, 8.82511029e+00,\n",
       "        1.50900737e+01, 8.63436548e+00],\n",
       "       [1.61230326e+00, 3.56508353e+00, 2.04412595e+00, 2.98906325e+00,\n",
       "        2.28821153e+00, 2.98259060e+00, 3.06281545e+00, 2.67905134e+00,\n",
       "        2.56531253e+00, 2.85491117e+00],\n",
       "       [1.61230326e+00, 3.56508353e+00, 2.04412595e+00, 2.98906325e+00,\n",
       "        2.28821153e+00, 2.98259060e+00, 3.06281545e+00, 2.67905134e+00,\n",
       "        2.56531253e+00, 2.85491117e+00],\n",
       "       [1.34358605e+01, 1.23967677e+01, 1.41516412e+01, 1.48645308e+01,\n",
       "        1.57723152e+01, 1.49856991e+01, 1.34465069e+01, 1.31588698e+01,\n",
       "        1.59954781e+01, 1.45530838e+01],\n",
       "       [0.00000000e+00, 0.00000000e+00, 0.00000000e+00, 0.00000000e+00,\n",
       "        0.00000000e+00, 0.00000000e+00, 0.00000000e+00, 0.00000000e+00,\n",
       "        0.00000000e+00, 0.00000000e+00],\n",
       "       [0.00000000e+00, 0.00000000e+00, 0.00000000e+00, 0.00000000e+00,\n",
       "        0.00000000e+00, 0.00000000e+00, 0.00000000e+00, 0.00000000e+00,\n",
       "        0.00000000e+00, 0.00000000e+00],\n",
       "       [1.34358605e+01, 1.23967677e+01, 1.41516412e+01, 1.48645308e+01,\n",
       "        1.57723152e+01, 1.49856991e+01, 1.34465069e+01, 1.31588698e+01,\n",
       "        1.59954781e+01, 1.45530838e+01],\n",
       "       [1.28984261e+01, 1.31259894e+01, 1.52635409e+01, 1.45413888e+01,\n",
       "        1.32389382e+01, 2.16783415e+01, 1.74804589e+01, 1.76502206e+01,\n",
       "        2.74639341e+01, 2.40926650e+01],\n",
       "       [5.83500227e+00, 1.13434476e+00, 1.46757761e+00, 2.42356480e+00,\n",
       "        2.94198626e+00, 3.05533672e+00, 4.03395206e+00, 3.46700761e+00,\n",
       "        4.37612137e+00, 2.50675127e+00]])"
      ]
     },
     "execution_count": 129,
     "metadata": {},
     "output_type": "execute_result"
    }
   ],
   "source": [
    "# Q10 create a slice that contains the first 10 samples\n",
    "\n",
    "data[:,0:10]"
   ]
  },
  {
   "cell_type": "code",
   "execution_count": 98,
   "metadata": {},
   "outputs": [],
   "source": [
    "# Q11 Changing topics...generate and plot a 2D random walk (see Chapter 4.7)"
   ]
  },
  {
   "cell_type": "code",
   "execution_count": 12,
   "metadata": {},
   "outputs": [],
   "source": [
    "# one d random walk \n",
    "%matplotlib inline\n",
    "import matplotlib.pyplot as plt\n",
    "\n",
    "import random\n",
    "position = 0 \n",
    "walk = [position]\n",
    "steps = 1000\n",
    "for i in range(steps):\n",
    "    step = 1 if random.randint(0, 1) else -1 # Return a random integer N such that a <= N <= b.\n",
    "    # step = 1 if get 1, step = -1 if 0 \n",
    "    position += step\n",
    "    walk.append(position)"
   ]
  },
  {
   "cell_type": "code",
   "execution_count": 13,
   "metadata": {},
   "outputs": [
    {
     "data": {
      "text/plain": [
       "[<matplotlib.lines.Line2D at 0x10eed7208>]"
      ]
     },
     "execution_count": 13,
     "metadata": {},
     "output_type": "execute_result"
    },
    {
     "data": {
      "image/png": "[encoded data removed]",
      "text/plain": [
       "<Figure size 432x288 with 1 Axes>"
      ]
     },
     "metadata": {},
     "output_type": "display_data"
    }
   ],
   "source": [
    "plt.plot(walk[:100])"
   ]
  },
  {
   "cell_type": "code",
   "execution_count": 14,
   "metadata": {},
   "outputs": [
    {
     "data": {
      "text/plain": [
       "(2, 1000)"
      ]
     },
     "execution_count": 14,
     "metadata": {},
     "output_type": "execute_result"
    }
   ],
   "source": [
    "# two d random walk \n",
    "nwalks = 2\n",
    "nsteps = 1000\n",
    "draws = np.random.randint( 0, 2, size =( nwalks, nsteps)) # 0 or 1\n",
    "steps = np.where(draws > 0, 1, -1)\n",
    "walks = steps.cumsum(1) # cumulative sum on thr row direction \n",
    "walks.shape"
   ]
  },
  {
   "cell_type": "code",
   "execution_count": 15,
   "metadata": {},
   "outputs": [
    {
     "data": {
      "text/plain": [
       "array([[ 1,  2,  3, ...,  2,  3,  2],\n",
       "       [ 1,  0, -1, ...,  4,  3,  4]])"
      ]
     },
     "execution_count": 15,
     "metadata": {},
     "output_type": "execute_result"
    }
   ],
   "source": [
    "walks"
   ]
  },
  {
   "cell_type": "code",
   "execution_count": 44,
   "metadata": {},
   "outputs": [
    {
     "data": {
      "text/plain": [
       "[<matplotlib.lines.Line2D at 0x112595780>]"
      ]
     },
     "execution_count": 44,
     "metadata": {},
     "output_type": "execute_result"
    },
    {
     "data": {
      "image/png": "[encoded data removed]",
      "text/plain": [
       "<Figure size 432x288 with 1 Axes>"
      ]
     },
     "metadata": {},
     "output_type": "display_data"
    }
   ],
   "source": [
    "plt.plot(walks[0], walks[1]) # understand how to slice array w/ or w/o dimension reduction "
   ]
  },
  {
   "cell_type": "code",
   "execution_count": null,
   "metadata": {},
   "outputs": [],
   "source": []
  },
  {
   "cell_type": "code",
   "execution_count": null,
   "metadata": {},
   "outputs": [],
   "source": []
  },
  {
   "cell_type": "code",
   "execution_count": null,
   "metadata": {},
   "outputs": [],
   "source": []
  },
  {
   "cell_type": "code",
   "execution_count": null,
   "metadata": {},
   "outputs": [],
   "source": []
  },
  {
   "cell_type": "code",
   "execution_count": null,
   "metadata": {},
   "outputs": [],
   "source": []
  },
  {
   "cell_type": "code",
   "execution_count": null,
   "metadata": {},
   "outputs": [],
   "source": []
  },
  {
   "cell_type": "code",
   "execution_count": null,
   "metadata": {},
   "outputs": [],
   "source": []
  },
  {
   "cell_type": "code",
   "execution_count": null,
   "metadata": {},
   "outputs": [],
   "source": []
  },
  {
   "cell_type": "code",
   "execution_count": null,
   "metadata": {},
   "outputs": [],
   "source": []
  }
 ],
 "metadata": {
  "kernelspec": {
   "display_name": "Python 3",
   "language": "python",
   "name": "python3"
  },
  "language_info": {
   "codemirror_mode": {
    "name": "ipython",
    "version": 3
   },
   "file_extension": ".py",
   "mimetype": "text/x-python",
   "name": "python",
   "nbconvert_exporter": "python",
   "pygments_lexer": "ipython3",
   "version": "3.6.5"
  }
 },
 "nbformat": 4,
 "nbformat_minor": 2
}
